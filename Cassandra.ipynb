{
 "cells": [
  {
   "cell_type": "code",
   "execution_count": null,
   "id": "f8b78038-dc76-4b7f-a1de-4c7464635379",
   "metadata": {},
   "outputs": [],
   "source": [
    "from cassandra.cluster import Cluster\n",
    "from cassandra.auth import PlainTextAuthProvider\n",
    "import pandas as pd\n",
    "from datetime import datetime\n",
    "import os\n",
    "import base64\n",
    "import urllib.request \n",
    "from PIL import Image \n",
    "import uuid"
   ]
  },
  {
   "cell_type": "code",
   "execution_count": null,
   "id": "af28bae0-de46-465f-af95-0b702e866681",
   "metadata": {},
   "outputs": [],
   "source": [
    "now = datetime.now()\n",
    "dt = now.strftime(\"%Y%m%d%H%M%S\")"
   ]
  },
  {
   "cell_type": "markdown",
   "id": "44dfd0a6-d265-4c60-ad2f-7cb58b7e907a",
   "metadata": {},
   "source": [
    "## Connect to Cassandra Cluster"
   ]
  },
  {
   "cell_type": "code",
   "execution_count": null,
   "id": "de5ce8f5-14fc-4a5a-b6cc-425557d75597",
   "metadata": {},
   "outputs": [],
   "source": [
    "auth_provider = PlainTextAuthProvider(username='cassandra', password='cassandra')\n",
    "cluster = Cluster(['192.168.10.53', '192.168.10.54', '192.168.10.22'], port=9042, auth_provider=auth_provider)\n",
    "session = cluster.connect('softnix') #Keyspaces"
   ]
  },
  {
   "cell_type": "code",
   "execution_count": null,
   "id": "f7fc6e63-b0a3-4bb8-ab1d-2898c38f40cc",
   "metadata": {},
   "outputs": [],
   "source": [
    "url = \"https://vincentarelbundock.github.io/Rdatasets/csv/AER/CPSSW9298.csv\"\n",
    "df = pd.read_csv(url)\n",
    "df['datetime'] = dt\n",
    "df = df.astype(str)\n",
    "df.head(1)"
   ]
  },
  {
   "cell_type": "code",
   "execution_count": null,
   "id": "959d26d1-0a80-4ebe-8e88-ee1c67276187",
   "metadata": {},
   "outputs": [],
   "source": [
    "cols = \"CREATE TABLE softnix.annual_enterprise (\"\n",
    "for col in df.columns:\n",
    "    cols += f\"{col} text,\"\n",
    "cols += \"PRIMARY KEY (datetime, rownames)\"\n",
    "cols += \") WITH CLUSTERING ORDER BY (rownames ASC);\""
   ]
  },
  {
   "cell_type": "code",
   "execution_count": null,
   "id": "69dbaeb7-c7e5-453f-a95e-06b8f4dfc747",
   "metadata": {},
   "outputs": [],
   "source": [
    "session.execute(cols)"
   ]
  },
  {
   "cell_type": "code",
   "execution_count": null,
   "id": "1052e0da-a989-4752-8e44-b9918f7f333a",
   "metadata": {},
   "outputs": [],
   "source": [
    "df.to_csv(f\"/tmp/{dt}.csv\", sep=\"|\", index=False)\n",
    "os.system(f'''\n",
    "            cqlsh 192.168.10.53 9042 \\\n",
    "            -u cassandra -p cassandra \\\n",
    "            -e \"COPY softnix.annual_enterprise \\\n",
    "            FROM '/tmp/{dt}.csv' WITH DELIMITER='|' AND HEADER=TRUE\"\n",
    "        ''')\n",
    "os.system(f\"rm -f /tmp/{dt}.csv\")"
   ]
  },
  {
   "cell_type": "markdown",
   "id": "840bc233-1871-46e0-bb29-7512b0243361",
   "metadata": {},
   "source": [
    "## Save File to Cassandra (BLOB)"
   ]
  },
  {
   "cell_type": "code",
   "execution_count": null,
   "id": "fa74515f-a0b8-4057-a0c9-fa7e322c3269",
   "metadata": {},
   "outputs": [],
   "source": [
    "'''Create Table Image Type BLOB'''\n",
    "session.execute(\"\"\"\n",
    "    CREATE TABLE IF NOT EXISTS softnix.raw (\n",
    "        id varchar PRIMARY KEY,\n",
    "        image blob\n",
    "    ) WITH CLUSTERING ORDER BY (id ASC);\n",
    "\"\"\")"
   ]
  },
  {
   "cell_type": "code",
   "execution_count": null,
   "id": "ce311bdb-18bb-454b-bbe2-b7dcbd5f30f7",
   "metadata": {},
   "outputs": [],
   "source": [
    "'''Get Image from URL'''\n",
    "urllib.request.urlretrieve( \n",
    "  'https://static.wixstatic.com/media/e59907_6a7d2908e7e34bb693cd5086a9df6c87~mv2.png/v1/fill/w_560,h_574,al_c,q_85,usm_0.66_1.00_0.01,enc_auto/Image-empty-state.png', \n",
    "   \"vin.png\") \n",
    "image = open('vin.png', 'rb')\n",
    "image_read = image.read()\n",
    "image_64_encode = base64.encodebytes(image_read)"
   ]
  },
  {
   "cell_type": "code",
   "execution_count": null,
   "id": "3663d1e2-558c-4a0f-ad9e-6dedd217589c",
   "metadata": {},
   "outputs": [],
   "source": [
    "'''Insert to Table'''\n",
    "sql = f\"INSERT INTO softnix.raw (id, image) VALUES (?, ?)\"\n",
    "pStatement = session.prepare(strCQL)\n",
    "session.execute(pStatement,[str(uuid.uuid4()),image_64_encode])"
   ]
  },
  {
   "cell_type": "code",
   "execution_count": null,
   "id": "a0d22d0e-1cb2-4224-accf-0eb9392a9058",
   "metadata": {},
   "outputs": [],
   "source": [
    "'''Convert Base64 to Image'''\n",
    "img = session.execute(\"SELECT * FROM softnix.raw WHERE id = '02fc3af9-f8ea-4fdd-85b5-48ae5be50ea5'\").one()[1]\n",
    "with open(\"/home/cassandra/robert.jpg\", \"wb\") as fh:\n",
    "    fh.write(base64.decodebytes(img))"
   ]
  },
  {
   "cell_type": "code",
   "execution_count": null,
   "id": "90f4cf66-a9cd-4b04-bcdc-42ad515e45a5",
   "metadata": {},
   "outputs": [],
   "source": [
    "session.execute(\"SELECT * FROM softnix.raw\").all()"
   ]
  }
 ],
 "metadata": {
  "kernelspec": {
   "display_name": "Python 3 (ipykernel)",
   "language": "python",
   "name": "python3"
  },
  "language_info": {
   "codemirror_mode": {
    "name": "ipython",
    "version": 3
   },
   "file_extension": ".py",
   "mimetype": "text/x-python",
   "name": "python",
   "nbconvert_exporter": "python",
   "pygments_lexer": "ipython3",
   "version": "3.9.18"
  }
 },
 "nbformat": 4,
 "nbformat_minor": 5
}
